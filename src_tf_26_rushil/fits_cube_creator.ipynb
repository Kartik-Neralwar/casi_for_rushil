{
 "cells": [
  {
   "cell_type": "code",
   "execution_count": 1,
   "id": "0ba0a539-5d00-4b03-a53f-076c2eb6e4cf",
   "metadata": {},
   "outputs": [],
   "source": [
    "import matplotlib.pyplot as plt\n",
    "import numpy as np\n",
    "from astropy.io import fits"
   ]
  },
  {
   "cell_type": "markdown",
   "id": "98287bb5-2008-42a5-ba29-56a4f18c1a62",
   "metadata": {},
   "source": [
    "Load the large SEDIGISM cube"
   ]
  },
  {
   "cell_type": "code",
   "execution_count": 7,
   "id": "2be87b7f-36ad-48c3-9bda-47913920d3f8",
   "metadata": {},
   "outputs": [],
   "source": [
    "sed_id = 305\n",
    "\n",
    "\n",
    "ID = 'G' + str(sed_id) #for naming input and output files\n",
    "fits_name = 'G' + str(sed_id) + '_13CO21_SEDIGISM_DR1c.fits'\n",
    "fits_path = '/u/kneralwar/ptmp_link/SEDIGISM/raw/' #'/u/kneralwar/ptmp_link/SEDIGISM/raw_clean/'\n",
    "\n",
    "\n",
    "data, hd = fits.getdata(fits_path+ fits_name, header = True)\n",
    "\n",
    "main_fits = np.squeeze(data)"
   ]
  },
  {
   "cell_type": "markdown",
   "id": "3ce0fc15-456d-45b4-b4ce-dc9dcf97edab",
   "metadata": {},
   "source": [
    "Create a smaller chunk of data"
   ]
  },
  {
   "cell_type": "code",
   "execution_count": 9,
   "id": "a004b72c-5862-414c-8b31-0912b6033b09",
   "metadata": {},
   "outputs": [],
   "source": [
    "data_req = main_fits[0:32,0:64,0:64] #velocity channels , longitude , latitude"
   ]
  },
  {
   "cell_type": "markdown",
   "id": "2ca588b6-6dc5-42fc-8fe7-5afb9c4b20ae",
   "metadata": {},
   "source": [
    "Define path and cube name for saving the file"
   ]
  },
  {
   "cell_type": "code",
   "execution_count": null,
   "id": "b4d2f9fb-3c10-4d58-ad3a-f43a0ea7faf2",
   "metadata": {},
   "outputs": [],
   "source": [
    "savepath = '' #keep same for all fits cubes\n",
    "savename = '' #update for each cube"
   ]
  },
  {
   "cell_type": "markdown",
   "id": "40e5ac4c-2fc9-4a2f-bef3-5db7a21c1239",
   "metadata": {},
   "source": [
    "Saving the subcube as fits file."
   ]
  },
  {
   "cell_type": "code",
   "execution_count": 10,
   "id": "384bdef3-7cd5-42c7-8036-4117be78efce",
   "metadata": {},
   "outputs": [],
   "source": [
    "hdu = fits.PrimaryHDU(np.array(data_req))\n",
    "\n",
    "hdu.header = hd\n",
    "hdu.data = data_req\n",
    "\n",
    "fits.writeto('%s%s' % (savepath,savename), np.float32(hdu.data), hdu.header, overwrite=True)"
   ]
  }
 ],
 "metadata": {
  "kernelspec": {
   "display_name": "Python 3 (ipykernel)",
   "language": "python",
   "name": "python3"
  },
  "language_info": {
   "codemirror_mode": {
    "name": "ipython",
    "version": 3
   },
   "file_extension": ".py",
   "mimetype": "text/x-python",
   "name": "python",
   "nbconvert_exporter": "python",
   "pygments_lexer": "ipython3",
   "version": "3.9.7"
  }
 },
 "nbformat": 4,
 "nbformat_minor": 5
}
